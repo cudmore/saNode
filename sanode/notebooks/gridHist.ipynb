{
 "cells": [
  {
   "cell_type": "markdown",
   "metadata": {},
   "source": [
    "## Grid histogram"
   ]
  },
  {
   "cell_type": "code",
   "execution_count": 1,
   "metadata": {},
   "outputs": [],
   "source": [
    "%load_ext autoreload\n",
    "%autoreload 2\n",
    "\n",
    "import matplotlib.pyplot as plt\n",
    "import numpy as np\n",
    "import tifffile\n",
    "\n",
    "from ipywidgets import interact, interactive, fixed, interact_manual\n",
    "import ipywidgets as widgets\n",
    "\n",
    "import aicsUtil2 # does not require bimpy\n",
    "import aicsGridNapari # to display the grid in napari"
   ]
  },
  {
   "cell_type": "code",
   "execution_count": 2,
   "metadata": {},
   "outputs": [
    {
     "name": "stdout",
     "output_type": "stream",
     "text": [
      "warning: bStackHeader.loadHeader() did not find spacing\n"
     ]
    }
   ],
   "source": [
    "dataPath = '/Users/cudmore/data'\n",
    "dateStr = '20200717'\n",
    "gridShape = (11,4)\n",
    "aicsGridParam = aicsUtil2.mySetDefaultGridParams(dataPath, dateStr, gridShape)"
   ]
  },
  {
   "cell_type": "code",
   "execution_count": 7,
   "metadata": {},
   "outputs": [
    {
     "name": "stdout",
     "output_type": "stream",
     "text": [
      "aicsGridNapari()\n",
      "   masterFilePath : aicsBatch/20200717_cell_db.csv\n",
      "   path : /Users/cudmore/data/20200717\n",
      "   prefixStr : 20200717__A01_G001_\n",
      "   commonShape : (88, 740, 740)\n",
      "   commonVoxelSize : (1, 0.3977476346942534, 0.3977476346942534)\n",
      "   channelList : [1, 2]\n",
      "   gridShape : (11, 4)\n",
      "   finalPostfixList : ['', '_mask', '_labeled']\n",
      "   trimPercent : 15\n",
      "   doUseInclude : False\n",
      "   doUseFirstLast : False\n",
      "   snakeGrid : [[ 1  2  3  4]\n",
      " [ 8  7  6  5]\n",
      " [ 9 10 11 12]\n",
      " [16 15 14 13]\n",
      " [17 18 19 20]\n",
      " [24 23 22 21]\n",
      " [25 26 27 28]\n",
      " [32 31 30 29]\n",
      " [33 34 35 36]\n",
      " [40 39 38 37]\n",
      " [41 42 43 44]]\n",
      "   bigStackShape : (88, 8140, 2960)\n",
      "   doCountLabels : False\n",
      "building 6 blocks. Each block is a grid of images\n",
      "  1 of 6 calling myGetBlock() channel 1, finalPostfixStr \"\"\n",
      "    making bigStack shape: (88, 8140, 2960) type: <class 'numpy.uint8'>\n",
      "  2 of 6 calling myGetBlock() channel 1, finalPostfixStr \"_mask\"\n",
      "    aicsGridNapari() did not find files for block, channel: 1 finalPostfixStr: _mask\n",
      "  3 of 6 calling myGetBlock() channel 1, finalPostfixStr \"_labeled\"\n",
      "    aicsGridNapari() did not find files for block, channel: 1 finalPostfixStr: _labeled\n",
      "  4 of 6 calling myGetBlock() channel 2, finalPostfixStr \"\"\n",
      "    making bigStack shape: (88, 8140, 2960) type: <class 'numpy.uint8'>\n",
      "  5 of 6 calling myGetBlock() channel 2, finalPostfixStr \"_mask\"\n",
      "    aicsGridNapari() did not find files for block, channel: 2 finalPostfixStr: _mask\n",
      "  6 of 6 calling myGetBlock() channel 2, finalPostfixStr \"_labeled\"\n",
      "    aicsGridNapari() did not find files for block, channel: 2 finalPostfixStr: _labeled\n",
      "aicsGridNapari() opening in Napari, grid size: (11, 4)  please wait ...\n",
      "   1 of 2 blocks uint8\n",
      "   2 of 2 blocks uint8\n",
      "napari should be open?\n",
      "=== viewerMouseDrag()\n",
      "  currentSlice: 0\n",
      "  xCoord (um): 0 yCoord (um): 4782.090600176458\n",
      "  xCoord (pixel): 0 yCoord (pixel): 12023\n",
      "exception in aicsGridNapari.viewerMouseDrag()\n",
      "  myRow 0 myCol: 16 (11, 4) index 16 is out of bounds for axis 1 with size 4\n",
      "  Row: 0 Col: 16 File Idx: None\n",
      "=== viewerMouseDrag()\n",
      "  currentSlice: 0\n",
      "  xCoord (um): 0 yCoord (um): 2918.7832429260407\n",
      "  xCoord (pixel): 0 yCoord (pixel): 7338\n",
      "exception in aicsGridNapari.viewerMouseDrag()\n",
      "  myRow 0 myCol: 9 (11, 4) index 9 is out of bounds for axis 1 with size 4\n",
      "  Row: 0 Col: 9 File Idx: None\n",
      "=== viewerMouseDrag()\n",
      "  currentSlice: 0\n",
      "  xCoord (um): 0 yCoord (um): 2806.2660031007576\n",
      "  xCoord (pixel): 0 yCoord (pixel): 7055\n",
      "exception in aicsGridNapari.viewerMouseDrag()\n",
      "  myRow 0 myCol: 9 (11, 4) index 9 is out of bounds for axis 1 with size 4\n",
      "  Row: 0 Col: 9 File Idx: None\n",
      "=== viewerMouseDrag()\n",
      "  currentSlice: 0\n",
      "  xCoord (um): 0 yCoord (um): 1098.0497257532775\n",
      "  xCoord (pixel): 0 yCoord (pixel): 2761\n",
      "  Row: 0 Col: 3 File Idx: 4\n",
      "=== viewerMouseDrag()\n",
      "  currentSlice: 0\n",
      "  xCoord (um): 0 yCoord (um): 474.090486722162\n",
      "  xCoord (pixel): 0 yCoord (pixel): 1192\n",
      "  Row: 0 Col: 1 File Idx: 2\n",
      "=== viewerMouseDrag()\n",
      "  currentSlice: 0\n",
      "  xCoord (um): 0 yCoord (um): 64.93688735749605\n",
      "  xCoord (pixel): 0 yCoord (pixel): 163\n",
      "  Row: 0 Col: 0 File Idx: 1\n",
      "=== viewerMouseDrag()\n",
      "  currentSlice: 0\n",
      "  xCoord (um): 0 yCoord (um): 116.0810872780794\n",
      "  xCoord (pixel): 0 yCoord (pixel): 292\n",
      "  Row: 0 Col: 0 File Idx: 1\n",
      "=== viewerMouseDrag()\n",
      "  currentSlice: 0\n",
      "  xCoord (um): 0 yCoord (um): 371.80208688099555\n",
      "  xCoord (pixel): 0 yCoord (pixel): 935\n",
      "  Row: 0 Col: 1 File Idx: 2\n",
      "=== viewerMouseDrag()\n",
      "  currentSlice: 0\n",
      "  xCoord (um): 0 yCoord (um): 351.3444069127621\n",
      "  xCoord (pixel): 0 yCoord (pixel): 883\n",
      "  Row: 0 Col: 1 File Idx: 2\n",
      "=== viewerMouseDrag()\n",
      "  currentSlice: 0\n",
      "  xCoord (um): 0 yCoord (um): 361.57324689687886\n",
      "  xCoord (pixel): 0 yCoord (pixel): 909\n",
      "  Row: 0 Col: 1 File Idx: 2\n",
      "=== viewerMouseDrag()\n",
      "  currentSlice: 0\n",
      "  xCoord (um): 0 yCoord (um): 351.3444069127621\n",
      "  xCoord (pixel): 0 yCoord (pixel): 883\n",
      "  Row: 0 Col: 1 File Idx: 2\n",
      "=== viewerMouseDrag()\n",
      "  currentSlice: 0\n",
      "  xCoord (um): 0 yCoord (um): 1108.2785657373943\n",
      "  xCoord (pixel): 0 yCoord (pixel): 2786\n",
      "  Row: 0 Col: 3 File Idx: 4\n",
      "=== viewerMouseDrag()\n",
      "  currentSlice: 0\n",
      "  xCoord (um): 0 yCoord (um): 1067.3632058009275\n",
      "  xCoord (pixel): 0 yCoord (pixel): 2684\n",
      "  Row: 0 Col: 3 File Idx: 4\n",
      "=== viewerMouseDrag()\n",
      "  currentSlice: 0\n",
      "  xCoord (um): 0 yCoord (um): 1762.9243247208594\n",
      "  xCoord (pixel): 0 yCoord (pixel): 4432\n",
      "exception in aicsGridNapari.viewerMouseDrag()\n",
      "  myRow 0 myCol: 5 (11, 4) index 5 is out of bounds for axis 1 with size 4\n",
      "  Row: 0 Col: 5 File Idx: None\n",
      "=== viewerMouseDrag()\n",
      "  currentSlice: 0\n",
      "  xCoord (um): 0 yCoord (um): 3327.936842290707\n",
      "  xCoord (pixel): 0 yCoord (pixel): 8367\n",
      "exception in aicsGridNapari.viewerMouseDrag()\n",
      "  myRow 0 myCol: 11 (11, 4) index 11 is out of bounds for axis 1 with size 4\n",
      "  Row: 0 Col: 11 File Idx: None\n",
      "=== viewerMouseDrag()\n",
      "  currentSlice: 0\n",
      "  xCoord (um): 0 yCoord (um): 3995.7063440617903\n",
      "  xCoord (pixel): 0 yCoord (pixel): 10046\n",
      "exception in aicsGridNapari.viewerMouseDrag()\n",
      "  myRow 0 myCol: 13 (11, 4) index 13 is out of bounds for axis 1 with size 4\n",
      "  Row: 0 Col: 13 File Idx: None\n",
      "=== viewerMouseDrag()\n",
      "  currentSlice: 39\n",
      "  xCoord (um): 39 yCoord (um): 3483.8835794041065\n",
      "  xCoord (pixel): 98 yCoord (pixel): 8759\n",
      "exception in aicsGridNapari.viewerMouseDrag()\n",
      "  myRow 0 myCol: 11 (11, 4) index 11 is out of bounds for axis 1 with size 4\n",
      "  Row: 0 Col: 11 File Idx: None\n"
     ]
    }
   ],
   "source": [
    "# open a napri viewer\n",
    "aicsGridNapari.aicsGridNapari(aicsGridParam)\n"
   ]
  },
  {
   "cell_type": "markdown",
   "metadata": {},
   "source": [
    "## One Histogram"
   ]
  },
  {
   "cell_type": "code",
   "execution_count": 59,
   "metadata": {},
   "outputs": [],
   "source": [
    "def plotOneHist(stackData, sliceNum, fig, ax):\n",
    "    print('plotOneHist()', sliceNum)\n",
    "    if sliceNum is not None:\n",
    "        oneSlice = stackData[sliceNum,:,:]\n",
    "    else:\n",
    "        oneSlice = stackData\n",
    "    flatData = np.ravel(oneSlice)\n",
    "    \n",
    "    numBins = 255\n",
    "    \n",
    "    ax.cla()\n",
    "    \n",
    "    # need histtype='step' to make it fast\n",
    "    n, bins, patches = ax.hist(flatData, numBins, density=False, histtype='step', facecolor='g', alpha=0.75)\n",
    "\n",
    "    ax.set_yscale('log')\n",
    "    \n",
    "    #plt.draw()\n",
    "    fig.canvas.draw()\n",
    "    fig.canvas.flush_events()\n"
   ]
  },
  {
   "cell_type": "code",
   "execution_count": 60,
   "metadata": {},
   "outputs": [
    {
     "name": "stdout",
     "output_type": "stream",
     "text": [
      "plotOneHist() None\n"
     ]
    },
    {
     "data": {
      "image/png": "[encoded data removed]",
      "text/plain": [
       "<Figure size 432x288 with 1 Axes>"
      ]
     },
     "metadata": {
      "needs_background": "light"
     },
     "output_type": "display_data"
    }
   ],
   "source": [
    "# one hist\n",
    "stackPath = '/Users/cudmore/data/20200717/aicsAnalysis/20200717__A01_G001_0018_ch1.tif'\n",
    "stackData = tifffile.imread(stackPath)\n",
    "\n",
    "fig, ax = plt.subplots(nrows=1, ncols=1)\n",
    "\n",
    "i = 0\n",
    "oneSlice = stackData[i,:,:]\n",
    "plotOneHist(oneSlice, None, fig, ax)"
   ]
  },
  {
   "cell_type": "code",
   "execution_count": 5,
   "metadata": {},
   "outputs": [
    {
     "data": {
      "application/vnd.jupyter.widget-view+json": {
       "model_id": "9723a7071326409a9cf798b9b8a2fc6b",
       "version_major": 2,
       "version_minor": 0
      },
      "text/plain": [
       "IntSlider(value=10, max=87)"
      ]
     },
     "metadata": {},
     "output_type": "display_data"
    },
    {
     "data": {
      "application/vnd.jupyter.widget-view+json": {
       "model_id": "79d950b5459e4260bcbf775ade474f54",
       "version_major": 2,
       "version_minor": 0
      },
      "text/plain": [
       "Output(layout=Layout(height='300px'))"
      ]
     },
     "metadata": {},
     "output_type": "display_data"
    },
    {
     "data": {
      "image/png": "[encoded data removed]",
      "text/plain": [
       "<Figure size 432x288 with 1 Axes>"
      ]
     },
     "metadata": {
      "needs_background": "light"
     },
     "output_type": "display_data"
    },
    {
     "name": "stdout",
     "output_type": "stream",
     "text": [
      "2 plotOneHist2() 53\n",
      "2 plotOneHist2() 69\n",
      "2 plotOneHist2() 76\n",
      "2 plotOneHist2() 26\n",
      "2 plotOneHist2() 8\n",
      "2 plotOneHist2() 55\n",
      "2 plotOneHist2() 46\n",
      "2 plotOneHist2() 37\n",
      "2 plotOneHist2() 28\n"
     ]
    }
   ],
   "source": [
    "stackPath = '/Users/cudmore/data/20200717/aicsAnalysis/20200717__A01_G001_0018_ch1.tif'\n",
    "stackData = tifffile.imread(stackPath)\n",
    "\n",
    "fig, ax = plt.subplots(nrows=1, ncols=1)\n",
    "\n",
    "def plotOneHist2(sliceNum):\n",
    "    oneSlice = stackData[sliceNum,:,:]\n",
    "    flatData = np.ravel(oneSlice)\n",
    "    \n",
    "    numBins = 255\n",
    "    \n",
    "    with out:\n",
    "        counts, bins, bars = plt.hist(flatData, numBins, density=False, histtype='step', facecolor='g', alpha=0.75);\n",
    "        plt.yscale('log')\n",
    "        plt.title(str(sliceNum))\n",
    "        out.clear_output()\n",
    "        plt.show()\n",
    "        \n",
    "    print('2 plotOneHist2()', sliceNum)\n",
    "    \n",
    "def plotOneHist3(change):\n",
    "    plotOneHist2(change['new']);   \n",
    "\n",
    "out = widgets.Output(layout = widgets.Layout(height='300px'))\n",
    "\n",
    "numSlices = stackData.shape[0]-1\n",
    "myIntSlider = widgets.IntSlider(min=0, max=numSlices, step=1, value=10)\n",
    "\n",
    "myIntSlider.observe(plotOneHist3, names='value');\n",
    "\n",
    "display(myIntSlider)\n",
    "display(out)\n",
    "\n"
   ]
  },
  {
   "cell_type": "markdown",
   "metadata": {},
   "source": [
    "## Grid of histogram"
   ]
  },
  {
   "cell_type": "code",
   "execution_count": 6,
   "metadata": {},
   "outputs": [
    {
     "data": {
      "image/png": "[encoded data removed]",
      "text/plain": [
       "<Figure size 576x792 with 44 Axes>"
      ]
     },
     "metadata": {
      "needs_background": "light"
     },
     "output_type": "display_data"
    }
   ],
   "source": [
    "# grid of hist\n",
    "\n",
    "nRow = aicsGridParam['gridShape'][0]\n",
    "nCol = aicsGridParam['gridShape'][1]\n",
    "figWidth = nCol * 2\n",
    "figHeight = nRow\n",
    "fig, axs = plt.subplots(nrows=nRow, ncols=nCol,\n",
    "                            sharex=True, sharey=True, figsize=(figWidth,figHeight), constrained_layout=False)\n",
    "axs = np.ravel(axs)\n"
   ]
  },
  {
   "cell_type": "code",
   "execution_count": 122,
   "metadata": {},
   "outputs": [
    {
     "name": "stderr",
     "output_type": "stream",
     "text": [
      "/Users/cudmore/opt/anaconda3/envs/sami_env/lib/python3.6/site-packages/ipykernel_launcher.py:35: VisibleDeprecationWarning: Passing `normed=True` on non-uniform bins has always been broken, and computes neither the probability density function nor the probability mass function. The result is only correct if the bins are uniform, when density=True will produce the same result anyway. The argument will be removed in a future version of numpy.\n"
     ]
    },
    {
     "data": {
      "text/plain": [
       "<matplotlib.widgets.Slider at 0x2475e90f0>"
      ]
     },
     "metadata": {},
     "output_type": "display_data"
    },
    {
     "data": {
      "image/png": "[encoded data removed]",
      "text/plain": [
       "<Figure size 432x288 with 4 Axes>"
      ]
     },
     "metadata": {
      "needs_background": "light"
     },
     "output_type": "display_data"
    }
   ],
   "source": []
  },
  {
   "cell_type": "code",
   "execution_count": null,
   "metadata": {},
   "outputs": [],
   "source": []
  }
 ],
 "metadata": {
  "kernelspec": {
   "display_name": "Python 3",
   "language": "python",
   "name": "python3"
  },
  "language_info": {
   "codemirror_mode": {
    "name": "ipython",
    "version": 3
   },
   "file_extension": ".py",
   "mimetype": "text/x-python",
   "name": "python",
   "nbconvert_exporter": "python",
   "pygments_lexer": "ipython3",
   "version": "3.6.10"
  }
 },
 "nbformat": 4,
 "nbformat_minor": 4
}
